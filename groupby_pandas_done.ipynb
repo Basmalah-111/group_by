{
  "nbformat": 4,
  "nbformat_minor": 0,
  "metadata": {
    "colab": {
      "private_outputs": true,
      "provenance": []
    },
    "kernelspec": {
      "name": "python3",
      "display_name": "Python 3"
    },
    "language_info": {
      "name": "python"
    }
  },
  "cells": [
    {
      "cell_type": "markdown",
      "source": [
        "# Load the Tips dataset"
      ],
      "metadata": {
        "id": "gdSyr7RlTvkV"
      }
    },
    {
      "cell_type": "code",
      "source": [
        "import pandas as pd\n",
        "import numpy as np\n",
        "df= pd.read_csv('/content/tips.csv')"
      ],
      "metadata": {
        "id": "FSnX9QdR1jOm"
      },
      "execution_count": null,
      "outputs": []
    },
    {
      "cell_type": "code",
      "source": [
        "df.head()"
      ],
      "metadata": {
        "id": "35R-gULR1se2"
      },
      "execution_count": null,
      "outputs": []
    },
    {
      "cell_type": "markdown",
      "source": [
        "# Group by day and calculate the average tip amount\n"
      ],
      "metadata": {
        "id": "lAnQRAt8T9XT"
      }
    },
    {
      "cell_type": "code",
      "source": [
        "df.groupby('day')['tip'].mean()"
      ],
      "metadata": {
        "id": "dgXDYXWW1v_D"
      },
      "execution_count": null,
      "outputs": []
    },
    {
      "cell_type": "code",
      "source": [
        "df.groupby('day').agg({'tip':'mean'})"
      ],
      "metadata": {
        "id": "_ElImN41112a"
      },
      "execution_count": null,
      "outputs": []
    },
    {
      "cell_type": "markdown",
      "source": [
        "# Calculate the total bill amount for each size of the group (number of people).\n"
      ],
      "metadata": {
        "id": "lfTKUQd_UPOx"
      }
    },
    {
      "cell_type": "code",
      "source": [
        "df.groupby('size').agg({'total_bill':'sum'})"
      ],
      "metadata": {
        "id": "vj93U-Ly18pz"
      },
      "execution_count": null,
      "outputs": []
    },
    {
      "cell_type": "markdown",
      "source": [
        "# Calculate the average tip percentage (tip / total_bill * 100) for each day and time (lunch or dinner)."
      ],
      "metadata": {
        "id": "d2NhUKbmUW1E"
      }
    },
    {
      "cell_type": "code",
      "source": [
        "df['tip_percentage'] = (df['tip'] / df['total_bill']) * 100\n",
        "df.groupby(['day', 'time'])['tip_percentage'].mean()"
      ],
      "metadata": {
        "id": "YspiuEKD23Rb"
      },
      "execution_count": null,
      "outputs": []
    },
    {
      "cell_type": "markdown",
      "source": [
        "# Find the maximum tip amount given by each gender."
      ],
      "metadata": {
        "id": "lscmonWHUocp"
      }
    },
    {
      "cell_type": "code",
      "source": [
        "df.groupby('sex').agg({'tip':'max'})"
      ],
      "metadata": {
        "id": "lQleb78P5guD"
      },
      "execution_count": null,
      "outputs": []
    },
    {
      "cell_type": "markdown",
      "source": [
        "# Calculate the total bill amount and tip amount for each day and size of the group.\n"
      ],
      "metadata": {
        "id": "6lzJiMYBUuDs"
      }
    },
    {
      "cell_type": "code",
      "source": [
        "df.groupby(['day','size']).agg({'total_bill':'sum','tip':'sum'})"
      ],
      "metadata": {
        "id": "YzZohFac5n2R"
      },
      "execution_count": null,
      "outputs": []
    },
    {
      "cell_type": "markdown",
      "source": [
        "# Calculate the average tip amount for each day, but only include data for groups of size 2 or more."
      ],
      "metadata": {
        "id": "d5-DOnTGU9-R"
      }
    },
    {
      "cell_type": "code",
      "source": [
        "df['size']=df['size'].astype(int)\n",
        "df['size'].info()\n"
      ],
      "metadata": {
        "id": "6SznS_jt9O3j"
      },
      "execution_count": null,
      "outputs": []
    },
    {
      "cell_type": "code",
      "source": [
        "size_col = df[df['size']>=2]\n",
        "size_col.groupby('day').agg({'tip':'mean'})"
      ],
      "metadata": {
        "id": "S6habajG-LEI"
      },
      "execution_count": null,
      "outputs": []
    },
    {
      "cell_type": "markdown",
      "source": [
        "# Find the day with the highest total bill amount, and calculate the average tip amount for that day."
      ],
      "metadata": {
        "id": "82Q81vISVr04"
      }
    },
    {
      "cell_type": "code",
      "source": [
        "df.groupby('day').agg({'total_bill':'sum','tip':'mean'}).sort_values('total_bill',ascending=False)"
      ],
      "metadata": {
        "id": "nwoZnHGd_AUq"
      },
      "execution_count": null,
      "outputs": []
    },
    {
      "cell_type": "markdown",
      "source": [
        "# Calculate the total bill amount for each day, but only include data for groups of size 3 or 4.\n"
      ],
      "metadata": {
        "id": "63qZQTN5Vvht"
      }
    },
    {
      "cell_type": "code",
      "source": [
        "size_col1 = df[(df['size']==3) | (df['size']==4)]\n",
        "size_col1.groupby('day').agg({'total_bill':'sum'})"
      ],
      "metadata": {
        "id": "8Iqz7ByM_Usx"
      },
      "execution_count": null,
      "outputs": []
    }
  ]
}